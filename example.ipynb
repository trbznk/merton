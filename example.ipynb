{
 "cells": [
  {
   "cell_type": "code",
   "execution_count": 6,
   "metadata": {},
   "outputs": [],
   "source": [
    "import ctypes\n",
    "\n",
    "ASSET_CORR = 0.05\n",
    "CUT_OFF = -2.0\n",
    "EAD = 1.0\n",
    "LGD = 0.6\n",
    "PF_SIZE = 100\n",
    "N_SIMS = 1_000"
   ]
  },
  {
   "cell_type": "code",
   "execution_count": 7,
   "metadata": {},
   "outputs": [],
   "source": [
    "class Simulation(ctypes.Structure):\n",
    "    _fields_ = [\n",
    "        (\"asset_corr\", ctypes.c_float),\n",
    "        (\"cut_off\", ctypes.c_float),\n",
    "        (\"EAD\", ctypes.c_float),\n",
    "        (\"LGD\", ctypes.c_float),\n",
    "        (\"pf_size\", ctypes.c_int),\n",
    "        (\"n_sims\", ctypes.c_int),\n",
    "        (\"L_PF\", ctypes.POINTER(ctypes.c_float))\n",
    "    ]\n",
    "\n",
    "libmonte = ctypes.CDLL(\"./libmerton.so\")\n",
    "libmonte.simulate.argtypes = [ctypes.POINTER(Simulation)]"
   ]
  },
  {
   "cell_type": "code",
   "execution_count": 11,
   "metadata": {},
   "outputs": [
    {
     "data": {
      "text/plain": [
       "1000"
      ]
     },
     "execution_count": 11,
     "metadata": {},
     "output_type": "execute_result"
    }
   ],
   "source": [
    "sim = Simulation(ASSET_CORR, CUT_OFF, EAD, LGD, PF_SIZE, N_SIMS, (ctypes.c_float*N_SIMS)())\n",
    "libmonte.simulate(ctypes.byref(sim))"
   ]
  },
  {
   "cell_type": "code",
   "execution_count": null,
   "metadata": {},
   "outputs": [],
   "source": []
  }
 ],
 "metadata": {
  "kernelspec": {
   "display_name": "Python 3",
   "language": "python",
   "name": "python3"
  },
  "language_info": {
   "codemirror_mode": {
    "name": "ipython",
    "version": 3
   },
   "file_extension": ".py",
   "mimetype": "text/x-python",
   "name": "python",
   "nbconvert_exporter": "python",
   "pygments_lexer": "ipython3",
   "version": "3.12.2"
  }
 },
 "nbformat": 4,
 "nbformat_minor": 2
}
