{
 "cells": [
  {
   "cell_type": "markdown",
   "metadata": {},
   "source": [
    "# Monte-Carlo-Simulation\n",
    "\n",
    "### Config"
   ]
  },
  {
   "cell_type": "code",
   "execution_count": 7,
   "metadata": {},
   "outputs": [],
   "source": [
    "PATH = \"./example_portfolio.csv\"\n",
    "ASSET_CORR = 0.0\n",
    "N_SIMS = 10_000"
   ]
  },
  {
   "cell_type": "markdown",
   "metadata": {},
   "source": [
    "### Modules"
   ]
  },
  {
   "cell_type": "code",
   "execution_count": 8,
   "metadata": {},
   "outputs": [],
   "source": [
    "import ctypes\n",
    "import matplotlib.pyplot as plt\n",
    "import numpy as np"
   ]
  },
  {
   "cell_type": "markdown",
   "metadata": {},
   "source": [
    "### C-Interface"
   ]
  },
  {
   "cell_type": "code",
   "execution_count": 9,
   "metadata": {},
   "outputs": [],
   "source": [
    "class Config(ctypes.Structure):\n",
    "    _fields_ = [\n",
    "        (\"path\", ctypes.c_char * 1024),\n",
    "        (\"asset_corr\", ctypes.c_float),\n",
    "        (\"n_sims\", ctypes.c_int),\n",
    "    ]\n",
    "\n",
    "class Result(ctypes.Structure):\n",
    "    _fields_ = [\n",
    "        (\"ms\", ctypes.c_float),\n",
    "        (\"L_PF\", ctypes.POINTER(ctypes.c_float)),\n",
    "        (\"LR_PF\", ctypes.POINTER(ctypes.c_float)),\n",
    "        (\"portfolio_size\", ctypes.c_int)\n",
    "    ]\n",
    "\n",
    "libmonte = ctypes.CDLL(\"./libmerton.so\")\n",
    "libmonte.simulate.argtypes = [Config]\n",
    "libmonte.simulate.restype = Result"
   ]
  },
  {
   "cell_type": "markdown",
   "metadata": {},
   "source": [
    "### Simulate"
   ]
  },
  {
   "cell_type": "code",
   "execution_count": 10,
   "metadata": {},
   "outputs": [
    {
     "name": "stdout",
     "output_type": "stream",
     "text": [
      "10000 simulations took 45.51 ms\n",
      "path: ./example_portfolio.csv\n",
      "portfolio_size: 80\n"
     ]
    }
   ],
   "source": [
    "config = Config(PATH.encode(\"utf-8\"), ASSET_CORR, N_SIMS)\n",
    "result = libmonte.simulate(config)\n",
    "l_pf = [float(result.L_PF[i]) for i in range(result.portfolio_size)]\n",
    "lr_pf = [float(result.LR_PF[i]) for i in range(result.portfolio_size)]\n",
    "\n",
    "print(f\"{N_SIMS} simulations took {result.ms:.2f} ms\")\n",
    "print(f\"path: {PATH}\")\n",
    "print(f\"portfolio_size: {result.portfolio_size}\")"
   ]
  },
  {
   "cell_type": "code",
   "execution_count": 11,
   "metadata": {},
   "outputs": [
    {
     "data": {
      "image/png": "[encoded data removed]",
      "text/plain": [
       "<Figure size 640x480 with 1 Axes>"
      ]
     },
     "metadata": {},
     "output_type": "display_data"
    }
   ],
   "source": [
    "fig, ax = plt.subplots()\n",
    "ax.set_title(f\"Verlustverteilung\")\n",
    "hist, bin_edges = np.histogram(l_pf, bins=[0, 6000, 12000, 18000, 24000, 30000])\n",
    "names = bin_edges = [f\"{int(e/1_000)} Mio\" for e in bin_edges[:-1]]\n",
    "rel_amount = hist/np.sum(hist)\n",
    "ax.bar(names, rel_amount)\n",
    "ax.set_xlabel(\"L_PF\")\n",
    "plt.show()"
   ]
  }
 ],
 "metadata": {
  "kernelspec": {
   "display_name": "Python 3 (ipykernel)",
   "language": "python",
   "name": "python3"
  },
  "language_info": {
   "codemirror_mode": {
    "name": "ipython",
    "version": 3
   },
   "file_extension": ".py",
   "mimetype": "text/x-python",
   "name": "python",
   "nbconvert_exporter": "python",
   "pygments_lexer": "ipython3",
   "version": "3.12.3"
  }
 },
 "nbformat": 4,
 "nbformat_minor": 4
}
