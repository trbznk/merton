{
 "cells": [
  {
   "cell_type": "markdown",
   "metadata": {},
   "source": [
    "# Monte-Carlo-Simulation\n",
    "\n",
    "### Config"
   ]
  },
  {
   "cell_type": "code",
   "execution_count": 179,
   "metadata": {},
   "outputs": [],
   "source": [
    "PATH = \"./example_portfolio.csv\"\n",
    "RHO = 0.2\n",
    "N_SIMS = 10_000\n",
    "SEED = 79"
   ]
  },
  {
   "cell_type": "markdown",
   "metadata": {},
   "source": [
    "### Modules"
   ]
  },
  {
   "cell_type": "code",
   "execution_count": 180,
   "metadata": {},
   "outputs": [],
   "source": [
    "import ctypes\n",
    "import matplotlib.pyplot as plt\n",
    "import numpy as np"
   ]
  },
  {
   "cell_type": "markdown",
   "metadata": {},
   "source": [
    "### C-Interface"
   ]
  },
  {
   "cell_type": "code",
   "execution_count": 181,
   "metadata": {},
   "outputs": [],
   "source": [
    "class Config(ctypes.Structure):\n",
    "    _fields_ = [\n",
    "        (\"path\", ctypes.c_char * 1024),\n",
    "        (\"rho\", ctypes.c_float),\n",
    "        (\"n_sims\", ctypes.c_size_t),\n",
    "        (\"seed\", ctypes.c_uint)\n",
    "    ]\n",
    "\n",
    "class Result(ctypes.Structure):\n",
    "    _fields_ = [\n",
    "        (\"ms\", ctypes.c_float),\n",
    "        (\"L_PF\", ctypes.POINTER(ctypes.c_float)),\n",
    "        (\"LR_PF\", ctypes.POINTER(ctypes.c_float)),\n",
    "        (\"exact_EL\", ctypes.c_float),\n",
    "        (\"EL\", ctypes.c_float),\n",
    "        (\"portfolio_size\", ctypes.c_size_t),\n",
    "        (\"n_sims\", ctypes.c_size_t)\n",
    "    ]\n",
    "\n",
    "libmonte = ctypes.CDLL(\"./libmerton.so\")\n",
    "libmonte.simulate.argtypes = [Config]\n",
    "libmonte.simulate.restype = Result"
   ]
  },
  {
   "cell_type": "markdown",
   "metadata": {},
   "source": [
    "### Simulation"
   ]
  },
  {
   "cell_type": "code",
   "execution_count": 182,
   "metadata": {},
   "outputs": [
    {
     "name": "stdout",
     "output_type": "stream",
     "text": [
      "10000 simulations took 41.54 ms\n",
      "path: ./example_portfolio.csv\n",
      "exact EL: 928200.00 €\n",
      "EL: 933600.00 €\n",
      "portfolio_size: 80\n"
     ]
    }
   ],
   "source": [
    "config = Config(PATH.encode(\"utf-8\"), RHO, N_SIMS, SEED)\n",
    "result = libmonte.simulate(config)\n",
    "l_pf = [float(result.L_PF[i]) for i in range(result.n_sims)]\n",
    "lr_pf = [float(result.LR_PF[i]) for i in range(result.n_sims)]\n",
    "\n",
    "print(f\"{N_SIMS} simulations took {result.ms:.2f} ms\")\n",
    "print(f\"path: {PATH}\")\n",
    "print(f\"exact EL: {result.exact_EL:.2f} €\")\n",
    "print(f\"EL: {result.EL:.2f} €\")\n",
    "print(f\"portfolio_size: {result.portfolio_size}\")"
   ]
  },
  {
   "cell_type": "code",
   "execution_count": 183,
   "metadata": {},
   "outputs": [
    {
     "data": {
      "image/png": "[encoded data removed]",
      "text/plain": [
       "<Figure size 640x480 with 1 Axes>"
      ]
     },
     "metadata": {},
     "output_type": "display_data"
    }
   ],
   "source": [
    "x, y = np.unique(l_pf, return_counts=True)\n",
    "rel_amount = y/np.sum(y)\n",
    "\n",
    "fig, ax = plt.subplots()\n",
    "ax.set_title(f\"Verlustverteilung\")\n",
    "names = [f\"{int(e/1_000_000)} Mio\" for e in x]\n",
    "ax.bar(names, rel_amount)\n",
    "ax.set_xlabel(\"L_PF\")\n",
    "plt.show()"
   ]
  }
 ],
 "metadata": {
  "kernelspec": {
   "display_name": "Python 3 (ipykernel)",
   "language": "python",
   "name": "python3"
  },
  "language_info": {
   "codemirror_mode": {
    "name": "ipython",
    "version": 3
   },
   "file_extension": ".py",
   "mimetype": "text/x-python",
   "name": "python",
   "nbconvert_exporter": "python",
   "pygments_lexer": "ipython3",
   "version": "3.12.3"
  }
 },
 "nbformat": 4,
 "nbformat_minor": 4
}
